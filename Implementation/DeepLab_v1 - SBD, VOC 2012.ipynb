{
 "cells": [
  {
   "cell_type": "markdown",
   "metadata": {},
   "source": [
    "# DeepLab_v1\n",
    "\n",
    "## 1. Environment Setup\n",
    "### 1.0. Check GPU"
   ]
  },
  {
   "cell_type": "code",
   "execution_count": 1,
   "metadata": {},
   "outputs": [
    {
     "name": "stdout",
     "output_type": "stream",
     "text": [
      "Wed Feb  3 06:29:27 2021       \n",
      "+-----------------------------------------------------------------------------+\n",
      "| NVIDIA-SMI 450.80.02    Driver Version: 450.80.02    CUDA Version: 11.0     |\n",
      "|-------------------------------+----------------------+----------------------+\n",
      "| GPU  Name        Persistence-M| Bus-Id        Disp.A | Volatile Uncorr. ECC |\n",
      "| Fan  Temp  Perf  Pwr:Usage/Cap|         Memory-Usage | GPU-Util  Compute M. |\n",
      "|                               |                      |               MIG M. |\n",
      "|===============================+======================+======================|\n",
      "|   0  A100-SXM4-40GB      On   | 00000000:07:00.0 Off |                    0 |\n",
      "| N/A   33C    P0   110W / 400W |  39078MiB / 40537MiB |    100%      Default |\n",
      "|                               |                      |             Enabled* |\n",
      "+-------------------------------+----------------------+----------------------+\n",
      "|   1  A100-SXM4-40GB      On   | 00000000:0F:00.0 Off |                    0 |\n",
      "| N/A   57C    P0   405W / 400W |  12750MiB / 40537MiB |     97%      Default |\n",
      "|                               |                      |             Enabled* |\n",
      "+-------------------------------+----------------------+----------------------+\n",
      "|   2  A100-SXM4-40GB      On   | 00000000:47:00.0 Off |                    0 |\n",
      "| N/A   58C    P0   327W / 400W |  21068MiB / 40537MiB |     99%      Default |\n",
      "|                               |                      |             Enabled* |\n",
      "+-------------------------------+----------------------+----------------------+\n",
      "|   3  A100-SXM4-40GB      On   | 00000000:4E:00.0 Off |                    0 |\n",
      "| N/A   62C    P0   317W / 400W |  16254MiB / 40537MiB |    100%      Default |\n",
      "|                               |                      |             Enabled* |\n",
      "+-------------------------------+----------------------+----------------------+\n",
      "|   4  A100-SXM4-40GB      On   | 00000000:87:00.0 Off |                    0 |\n",
      "| N/A   36C    P0    92W / 400W |  17810MiB / 40537MiB |      4%      Default |\n",
      "|                               |                      |             Enabled* |\n",
      "+-------------------------------+----------------------+----------------------+\n",
      "|   5  A100-SXM4-40GB      On   | 00000000:90:00.0 Off |                    0 |\n",
      "| N/A   43C    P0    81W / 400W |  18102MiB / 40537MiB |      3%      Default |\n",
      "|                               |                      |             Enabled* |\n",
      "+-------------------------------+----------------------+----------------------+\n",
      "|   6  A100-SXM4-40GB      On   | 00000000:B7:00.0 Off |                    0 |\n",
      "| N/A   47C    P0    75W / 400W |  39080MiB / 40537MiB |     39%      Default |\n",
      "|                               |                      |             Enabled* |\n",
      "+-------------------------------+----------------------+----------------------+\n",
      "|   7  A100-SXM4-40GB      On   | 00000000:BD:00.0 Off |                    0 |\n",
      "| N/A   43C    P0    60W / 400W |      3MiB / 40537MiB |      0%      Default |\n",
      "|                               |                      |             Enabled* |\n",
      "+-------------------------------+----------------------+----------------------+\n",
      "                                                                               \n",
      "+-----------------------------------------------------------------------------+\n",
      "| Processes:                                                                  |\n",
      "|  GPU   GI   CI        PID   Type   Process name                  GPU Memory |\n",
      "|        ID   ID                                                   Usage      |\n",
      "|=============================================================================|\n",
      "+-----------------------------------------------------------------------------+\n"
     ]
    }
   ],
   "source": [
    "!nvidia-smi"
   ]
  },
  {
   "cell_type": "code",
   "execution_count": 2,
   "metadata": {},
   "outputs": [
    {
     "name": "stdout",
     "output_type": "stream",
     "text": [
      "nvcc: NVIDIA (R) Cuda compiler driver\r\n",
      "Copyright (c) 2005-2020 NVIDIA Corporation\r\n",
      "Built on Wed_Jul_22_19:09:09_PDT_2020\r\n",
      "Cuda compilation tools, release 11.0, V11.0.221\r\n",
      "Build cuda_11.0_bu.TC445_37.28845127_0\r\n"
     ]
    }
   ],
   "source": [
    "!nvcc --version"
   ]
  },
  {
   "cell_type": "code",
   "execution_count": null,
   "metadata": {},
   "outputs": [],
   "source": []
  },
  {
   "cell_type": "markdown",
   "metadata": {},
   "source": [
    "### 1.1. Install Pytorch and torchvision"
   ]
  },
  {
   "cell_type": "code",
   "execution_count": 3,
   "metadata": {},
   "outputs": [
    {
     "name": "stdout",
     "output_type": "stream",
     "text": [
      "Looking in links: https://download.pytorch.org/whl/torch_stable.html\n",
      "Requirement already satisfied: torch==1.7.1+cu110 in /usr/local/lib/python3.6/dist-packages (1.7.1+cu110)\n",
      "Requirement already satisfied: torchvision==0.8.2+cu110 in /usr/local/lib/python3.6/dist-packages (0.8.2+cu110)\n",
      "Requirement already satisfied: torchaudio===0.7.2 in /usr/local/lib/python3.6/dist-packages (0.7.2)\n",
      "Requirement already satisfied: dataclasses; python_version < \"3.7\" in /usr/local/lib/python3.6/dist-packages (from torch==1.7.1+cu110) (0.8)\n",
      "Requirement already satisfied: numpy in /usr/local/lib/python3.6/dist-packages (from torch==1.7.1+cu110) (1.19.4)\n",
      "Requirement already satisfied: typing-extensions in /usr/local/lib/python3.6/dist-packages (from torch==1.7.1+cu110) (3.7.4.3)\n",
      "Requirement already satisfied: pillow>=4.1.1 in /usr/local/lib/python3.6/dist-packages (from torchvision==0.8.2+cu110) (8.0.1)\n",
      "\u001b[33mWARNING: You are using pip version 20.2.4; however, version 21.0.1 is available.\n",
      "You should consider upgrading via the '/usr/bin/python3 -m pip install --upgrade pip' command.\u001b[0m\n"
     ]
    }
   ],
   "source": [
    "!pip install torch==1.7.1+cu110 torchvision==0.8.2+cu110 torchaudio===0.7.2 -f https://download.pytorch.org/whl/torch_stable.html"
   ]
  },
  {
   "cell_type": "code",
   "execution_count": null,
   "metadata": {},
   "outputs": [],
   "source": []
  },
  {
   "cell_type": "markdown",
   "metadata": {},
   "source": [
    "### 1.2. Install PyDenseCRF"
   ]
  },
  {
   "cell_type": "code",
   "execution_count": 4,
   "metadata": {},
   "outputs": [
    {
     "name": "stdout",
     "output_type": "stream",
     "text": [
      "Requirement already satisfied: pydensecrf in /usr/local/lib/python3.6/dist-packages (1.0rc3)\n",
      "\u001b[33mWARNING: You are using pip version 20.2.4; however, version 21.0.1 is available.\n",
      "You should consider upgrading via the '/usr/bin/python3 -m pip install --upgrade pip' command.\u001b[0m\n"
     ]
    }
   ],
   "source": [
    "!pip install pydensecrf"
   ]
  },
  {
   "cell_type": "code",
   "execution_count": null,
   "metadata": {},
   "outputs": [],
   "source": []
  },
  {
   "cell_type": "markdown",
   "metadata": {},
   "source": [
    "### 1.3. Import"
   ]
  },
  {
   "cell_type": "code",
   "execution_count": 5,
   "metadata": {},
   "outputs": [],
   "source": [
    "import augmentation, model\n",
    "\n",
    "import torch\n",
    "import torchvision\n",
    "\n",
    "# Ignore Warning\n",
    "import warnings\n",
    "warnings.filterwarnings(action='ignore')"
   ]
  },
  {
   "cell_type": "code",
   "execution_count": null,
   "metadata": {},
   "outputs": [],
   "source": []
  },
  {
   "cell_type": "markdown",
   "metadata": {},
   "source": [
    "## 2. Data Preprocessing"
   ]
  },
  {
   "cell_type": "code",
   "execution_count": 6,
   "metadata": {},
   "outputs": [],
   "source": [
    "# batch size more than 1 is not considered so use 1\n",
    "batch_size = 1"
   ]
  },
  {
   "cell_type": "code",
   "execution_count": 7,
   "metadata": {
    "scrolled": true
   },
   "outputs": [],
   "source": [
    "transform = augmentation.Mask_Aug(transforms=[augmentation.PILToTensor_img(), augmentation.PILToTensor(), \n",
    "                                              augmentation.Resize((256, 256))])\n",
    "\n",
    "dataset = torchvision.datasets.VOCSegmentation(root='./', year='2012', image_set='val', download=False, transforms=transform)\n",
    "loader = torch.utils.data.DataLoader(dataset, batch_size=batch_size, shuffle=False, num_workers=4, pin_memory=True)"
   ]
  },
  {
   "cell_type": "code",
   "execution_count": null,
   "metadata": {},
   "outputs": [],
   "source": []
  },
  {
   "cell_type": "markdown",
   "metadata": {},
   "source": [
    "## 3. Train Model"
   ]
  },
  {
   "cell_type": "code",
   "execution_count": 8,
   "metadata": {},
   "outputs": [],
   "source": [
    "num_classes = 21\n",
    "gpu_id = 7\n",
    "weight_file = './best.pt'\n",
    "\n",
    "iter_max = 10\n",
    "bi_ws = range(5, 11)\n",
    "bi_xy_stds = range(50, 101, 10)\n",
    "bi_rgb_stds = range(3, 11)\n",
    "pos_ws = [3]\n",
    "pos_xy_stds = [3]"
   ]
  },
  {
   "cell_type": "code",
   "execution_count": 9,
   "metadata": {
    "scrolled": true
   },
   "outputs": [],
   "source": [
    "DeepLab_v1 = model.DeepLab_v1(num_classes=num_classes, gpu_id=gpu_id, weight_file=weight_file)"
   ]
  },
  {
   "cell_type": "code",
   "execution_count": 10,
   "metadata": {
    "scrolled": false
   },
   "outputs": [
    {
     "name": "stdout",
     "output_type": "stream",
     "text": [
      "\n",
      "*********************************** Best mIoU Updated ***********************************\n",
      "bi_w : 5, bi_xy_std : 50, bi_rgb_std : 3, pos_w : 3, pos_xy_std : 3  mIoU : 65.8405\n",
      "\n",
      "*********************************** Best mIoU Updated ***********************************\n",
      "bi_w : 5, bi_xy_std : 50, bi_rgb_std : 4, pos_w : 3, pos_xy_std : 3  mIoU : 65.9751\n",
      "\n",
      "*********************************** Best mIoU Updated ***********************************\n",
      "bi_w : 5, bi_xy_std : 50, bi_rgb_std : 5, pos_w : 3, pos_xy_std : 3  mIoU : 66.0251\n",
      "bi_w : 5, bi_xy_std : 50, bi_rgb_std : 6, pos_w : 3, pos_xy_std : 3  mIoU : 65.9747\n",
      "bi_w : 5, bi_xy_std : 50, bi_rgb_std : 7, pos_w : 3, pos_xy_std : 3  mIoU : 65.9177\n",
      "bi_w : 5, bi_xy_std : 50, bi_rgb_std : 8, pos_w : 3, pos_xy_std : 3  mIoU : 65.8651\n",
      "bi_w : 5, bi_xy_std : 50, bi_rgb_std : 9, pos_w : 3, pos_xy_std : 3  mIoU : 65.8204\n",
      "bi_w : 5, bi_xy_std : 50, bi_rgb_std : 10, pos_w : 3, pos_xy_std : 3  mIoU : 65.7756\n",
      "bi_w : 5, bi_xy_std : 60, bi_rgb_std : 3, pos_w : 3, pos_xy_std : 3  mIoU : 65.9642\n",
      "\n",
      "*********************************** Best mIoU Updated ***********************************\n",
      "bi_w : 5, bi_xy_std : 60, bi_rgb_std : 4, pos_w : 3, pos_xy_std : 3  mIoU : 66.0392\n",
      "bi_w : 5, bi_xy_std : 60, bi_rgb_std : 5, pos_w : 3, pos_xy_std : 3  mIoU : 66.0060\n",
      "bi_w : 5, bi_xy_std : 60, bi_rgb_std : 6, pos_w : 3, pos_xy_std : 3  mIoU : 65.9390\n",
      "bi_w : 5, bi_xy_std : 60, bi_rgb_std : 7, pos_w : 3, pos_xy_std : 3  mIoU : 65.8527\n",
      "bi_w : 5, bi_xy_std : 60, bi_rgb_std : 8, pos_w : 3, pos_xy_std : 3  mIoU : 65.7604\n",
      "bi_w : 5, bi_xy_std : 60, bi_rgb_std : 9, pos_w : 3, pos_xy_std : 3  mIoU : 65.6901\n",
      "bi_w : 5, bi_xy_std : 60, bi_rgb_std : 10, pos_w : 3, pos_xy_std : 3  mIoU : 65.6278\n",
      "bi_w : 5, bi_xy_std : 70, bi_rgb_std : 3, pos_w : 3, pos_xy_std : 3  mIoU : 65.9760\n",
      "bi_w : 5, bi_xy_std : 70, bi_rgb_std : 4, pos_w : 3, pos_xy_std : 3  mIoU : 65.9358\n",
      "bi_w : 5, bi_xy_std : 70, bi_rgb_std : 5, pos_w : 3, pos_xy_std : 3  mIoU : 65.8415\n",
      "bi_w : 5, bi_xy_std : 70, bi_rgb_std : 6, pos_w : 3, pos_xy_std : 3  mIoU : 65.7658\n",
      "bi_w : 5, bi_xy_std : 70, bi_rgb_std : 7, pos_w : 3, pos_xy_std : 3  mIoU : 65.6368\n",
      "bi_w : 5, bi_xy_std : 70, bi_rgb_std : 8, pos_w : 3, pos_xy_std : 3  mIoU : 65.5394\n",
      "bi_w : 5, bi_xy_std : 70, bi_rgb_std : 9, pos_w : 3, pos_xy_std : 3  mIoU : 65.4629\n",
      "bi_w : 5, bi_xy_std : 70, bi_rgb_std : 10, pos_w : 3, pos_xy_std : 3  mIoU : 65.3626\n",
      "bi_w : 5, bi_xy_std : 80, bi_rgb_std : 3, pos_w : 3, pos_xy_std : 3  mIoU : 65.8978\n",
      "bi_w : 5, bi_xy_std : 80, bi_rgb_std : 4, pos_w : 3, pos_xy_std : 3  mIoU : 65.8354\n",
      "bi_w : 5, bi_xy_std : 80, bi_rgb_std : 5, pos_w : 3, pos_xy_std : 3  mIoU : 65.7435\n",
      "bi_w : 5, bi_xy_std : 80, bi_rgb_std : 6, pos_w : 3, pos_xy_std : 3  mIoU : 65.6111\n",
      "bi_w : 5, bi_xy_std : 80, bi_rgb_std : 7, pos_w : 3, pos_xy_std : 3  mIoU : 65.4794\n",
      "bi_w : 5, bi_xy_std : 80, bi_rgb_std : 8, pos_w : 3, pos_xy_std : 3  mIoU : 65.3645\n",
      "bi_w : 5, bi_xy_std : 80, bi_rgb_std : 9, pos_w : 3, pos_xy_std : 3  mIoU : 65.2356\n",
      "bi_w : 5, bi_xy_std : 80, bi_rgb_std : 10, pos_w : 3, pos_xy_std : 3  mIoU : 65.1167\n",
      "bi_w : 5, bi_xy_std : 90, bi_rgb_std : 3, pos_w : 3, pos_xy_std : 3  mIoU : 65.8708\n",
      "bi_w : 5, bi_xy_std : 90, bi_rgb_std : 4, pos_w : 3, pos_xy_std : 3  mIoU : 65.7830\n",
      "bi_w : 5, bi_xy_std : 90, bi_rgb_std : 5, pos_w : 3, pos_xy_std : 3  mIoU : 65.6379\n",
      "bi_w : 5, bi_xy_std : 90, bi_rgb_std : 6, pos_w : 3, pos_xy_std : 3  mIoU : 65.4682\n",
      "bi_w : 5, bi_xy_std : 90, bi_rgb_std : 7, pos_w : 3, pos_xy_std : 3  mIoU : 65.3261\n",
      "bi_w : 5, bi_xy_std : 90, bi_rgb_std : 8, pos_w : 3, pos_xy_std : 3  mIoU : 65.1752\n",
      "bi_w : 5, bi_xy_std : 90, bi_rgb_std : 9, pos_w : 3, pos_xy_std : 3  mIoU : 65.0384\n",
      "bi_w : 5, bi_xy_std : 90, bi_rgb_std : 10, pos_w : 3, pos_xy_std : 3  mIoU : 64.8927\n",
      "bi_w : 5, bi_xy_std : 100, bi_rgb_std : 3, pos_w : 3, pos_xy_std : 3  mIoU : 65.7735\n",
      "bi_w : 5, bi_xy_std : 100, bi_rgb_std : 4, pos_w : 3, pos_xy_std : 3  mIoU : 65.6609\n",
      "bi_w : 5, bi_xy_std : 100, bi_rgb_std : 5, pos_w : 3, pos_xy_std : 3  mIoU : 65.4896\n",
      "bi_w : 5, bi_xy_std : 100, bi_rgb_std : 6, pos_w : 3, pos_xy_std : 3  mIoU : 65.3122\n",
      "bi_w : 5, bi_xy_std : 100, bi_rgb_std : 7, pos_w : 3, pos_xy_std : 3  mIoU : 65.1227\n",
      "bi_w : 5, bi_xy_std : 100, bi_rgb_std : 8, pos_w : 3, pos_xy_std : 3  mIoU : 64.9475\n",
      "bi_w : 5, bi_xy_std : 100, bi_rgb_std : 9, pos_w : 3, pos_xy_std : 3  mIoU : 64.7945\n",
      "bi_w : 5, bi_xy_std : 100, bi_rgb_std : 10, pos_w : 3, pos_xy_std : 3  mIoU : 64.6444\n",
      "bi_w : 6, bi_xy_std : 50, bi_rgb_std : 3, pos_w : 3, pos_xy_std : 3  mIoU : 65.9162\n",
      "\n",
      "*********************************** Best mIoU Updated ***********************************\n",
      "bi_w : 6, bi_xy_std : 50, bi_rgb_std : 4, pos_w : 3, pos_xy_std : 3  mIoU : 66.0457\n",
      "\n",
      "*********************************** Best mIoU Updated ***********************************\n",
      "bi_w : 6, bi_xy_std : 50, bi_rgb_std : 5, pos_w : 3, pos_xy_std : 3  mIoU : 66.1107\n",
      "bi_w : 6, bi_xy_std : 50, bi_rgb_std : 6, pos_w : 3, pos_xy_std : 3  mIoU : 66.0376\n",
      "bi_w : 6, bi_xy_std : 50, bi_rgb_std : 7, pos_w : 3, pos_xy_std : 3  mIoU : 65.9531\n",
      "bi_w : 6, bi_xy_std : 50, bi_rgb_std : 8, pos_w : 3, pos_xy_std : 3  mIoU : 65.8847\n",
      "bi_w : 6, bi_xy_std : 50, bi_rgb_std : 9, pos_w : 3, pos_xy_std : 3  mIoU : 65.8064\n",
      "bi_w : 6, bi_xy_std : 50, bi_rgb_std : 10, pos_w : 3, pos_xy_std : 3  mIoU : 65.7053\n",
      "bi_w : 6, bi_xy_std : 60, bi_rgb_std : 3, pos_w : 3, pos_xy_std : 3  mIoU : 66.0775\n",
      "bi_w : 6, bi_xy_std : 60, bi_rgb_std : 4, pos_w : 3, pos_xy_std : 3  mIoU : 66.0658\n",
      "bi_w : 6, bi_xy_std : 60, bi_rgb_std : 5, pos_w : 3, pos_xy_std : 3  mIoU : 65.9432\n",
      "bi_w : 6, bi_xy_std : 60, bi_rgb_std : 6, pos_w : 3, pos_xy_std : 3  mIoU : 65.8431\n",
      "bi_w : 6, bi_xy_std : 60, bi_rgb_std : 7, pos_w : 3, pos_xy_std : 3  mIoU : 65.7283\n",
      "bi_w : 6, bi_xy_std : 60, bi_rgb_std : 8, pos_w : 3, pos_xy_std : 3  mIoU : 65.5804\n",
      "bi_w : 6, bi_xy_std : 60, bi_rgb_std : 9, pos_w : 3, pos_xy_std : 3  mIoU : 65.5221\n",
      "bi_w : 6, bi_xy_std : 60, bi_rgb_std : 10, pos_w : 3, pos_xy_std : 3  mIoU : 65.4195\n",
      "bi_w : 6, bi_xy_std : 70, bi_rgb_std : 3, pos_w : 3, pos_xy_std : 3  mIoU : 65.9503\n",
      "bi_w : 6, bi_xy_std : 70, bi_rgb_std : 4, pos_w : 3, pos_xy_std : 3  mIoU : 65.8605\n",
      "bi_w : 6, bi_xy_std : 70, bi_rgb_std : 5, pos_w : 3, pos_xy_std : 3  mIoU : 65.7345\n",
      "bi_w : 6, bi_xy_std : 70, bi_rgb_std : 6, pos_w : 3, pos_xy_std : 3  mIoU : 65.5914\n",
      "bi_w : 6, bi_xy_std : 70, bi_rgb_std : 7, pos_w : 3, pos_xy_std : 3  mIoU : 65.4453\n",
      "bi_w : 6, bi_xy_std : 70, bi_rgb_std : 8, pos_w : 3, pos_xy_std : 3  mIoU : 65.3255\n",
      "bi_w : 6, bi_xy_std : 70, bi_rgb_std : 9, pos_w : 3, pos_xy_std : 3  mIoU : 65.1972\n",
      "bi_w : 6, bi_xy_std : 70, bi_rgb_std : 10, pos_w : 3, pos_xy_std : 3  mIoU : 65.0502\n",
      "bi_w : 6, bi_xy_std : 80, bi_rgb_std : 3, pos_w : 3, pos_xy_std : 3  mIoU : 65.8295\n",
      "bi_w : 6, bi_xy_std : 80, bi_rgb_std : 4, pos_w : 3, pos_xy_std : 3  mIoU : 65.7034\n",
      "bi_w : 6, bi_xy_std : 80, bi_rgb_std : 5, pos_w : 3, pos_xy_std : 3  mIoU : 65.5542\n",
      "bi_w : 6, bi_xy_std : 80, bi_rgb_std : 6, pos_w : 3, pos_xy_std : 3  mIoU : 65.3626\n",
      "bi_w : 6, bi_xy_std : 80, bi_rgb_std : 7, pos_w : 3, pos_xy_std : 3  mIoU : 65.1932\n",
      "bi_w : 6, bi_xy_std : 80, bi_rgb_std : 8, pos_w : 3, pos_xy_std : 3  mIoU : 65.0261\n",
      "bi_w : 6, bi_xy_std : 80, bi_rgb_std : 9, pos_w : 3, pos_xy_std : 3  mIoU : 64.8726\n",
      "bi_w : 6, bi_xy_std : 80, bi_rgb_std : 10, pos_w : 3, pos_xy_std : 3  mIoU : 64.7259\n",
      "bi_w : 6, bi_xy_std : 90, bi_rgb_std : 3, pos_w : 3, pos_xy_std : 3  mIoU : 65.7475\n",
      "bi_w : 6, bi_xy_std : 90, bi_rgb_std : 4, pos_w : 3, pos_xy_std : 3  mIoU : 65.5891\n",
      "bi_w : 6, bi_xy_std : 90, bi_rgb_std : 5, pos_w : 3, pos_xy_std : 3  mIoU : 65.4012\n",
      "bi_w : 6, bi_xy_std : 90, bi_rgb_std : 6, pos_w : 3, pos_xy_std : 3  mIoU : 65.1483\n",
      "bi_w : 6, bi_xy_std : 90, bi_rgb_std : 7, pos_w : 3, pos_xy_std : 3  mIoU : 64.9839\n",
      "bi_w : 6, bi_xy_std : 90, bi_rgb_std : 8, pos_w : 3, pos_xy_std : 3  mIoU : 64.8075\n",
      "bi_w : 6, bi_xy_std : 90, bi_rgb_std : 9, pos_w : 3, pos_xy_std : 3  mIoU : 64.5945\n",
      "bi_w : 6, bi_xy_std : 90, bi_rgb_std : 10, pos_w : 3, pos_xy_std : 3  mIoU : 64.4049\n",
      "bi_w : 6, bi_xy_std : 100, bi_rgb_std : 3, pos_w : 3, pos_xy_std : 3  mIoU : 65.5869\n",
      "bi_w : 6, bi_xy_std : 100, bi_rgb_std : 4, pos_w : 3, pos_xy_std : 3  mIoU : 65.4459\n",
      "bi_w : 6, bi_xy_std : 100, bi_rgb_std : 5, pos_w : 3, pos_xy_std : 3  mIoU : 65.1847\n"
     ]
    },
    {
     "name": "stdout",
     "output_type": "stream",
     "text": [
      "bi_w : 6, bi_xy_std : 100, bi_rgb_std : 6, pos_w : 3, pos_xy_std : 3  mIoU : 64.9390\n",
      "bi_w : 6, bi_xy_std : 100, bi_rgb_std : 7, pos_w : 3, pos_xy_std : 3  mIoU : 64.7181\n",
      "bi_w : 6, bi_xy_std : 100, bi_rgb_std : 8, pos_w : 3, pos_xy_std : 3  mIoU : 64.4612\n",
      "bi_w : 6, bi_xy_std : 100, bi_rgb_std : 9, pos_w : 3, pos_xy_std : 3  mIoU : 64.2498\n",
      "bi_w : 6, bi_xy_std : 100, bi_rgb_std : 10, pos_w : 3, pos_xy_std : 3  mIoU : 64.0582\n",
      "bi_w : 7, bi_xy_std : 50, bi_rgb_std : 3, pos_w : 3, pos_xy_std : 3  mIoU : 65.9447\n",
      "\n",
      "*********************************** Best mIoU Updated ***********************************\n",
      "bi_w : 7, bi_xy_std : 50, bi_rgb_std : 4, pos_w : 3, pos_xy_std : 3  mIoU : 66.1127\n",
      "bi_w : 7, bi_xy_std : 50, bi_rgb_std : 5, pos_w : 3, pos_xy_std : 3  mIoU : 66.1123\n",
      "bi_w : 7, bi_xy_std : 50, bi_rgb_std : 6, pos_w : 3, pos_xy_std : 3  mIoU : 65.9915\n",
      "bi_w : 7, bi_xy_std : 50, bi_rgb_std : 7, pos_w : 3, pos_xy_std : 3  mIoU : 65.8454\n",
      "bi_w : 7, bi_xy_std : 50, bi_rgb_std : 8, pos_w : 3, pos_xy_std : 3  mIoU : 65.7469\n",
      "bi_w : 7, bi_xy_std : 50, bi_rgb_std : 9, pos_w : 3, pos_xy_std : 3  mIoU : 65.6453\n",
      "bi_w : 7, bi_xy_std : 50, bi_rgb_std : 10, pos_w : 3, pos_xy_std : 3  mIoU : 65.4991\n",
      "bi_w : 7, bi_xy_std : 60, bi_rgb_std : 3, pos_w : 3, pos_xy_std : 3  mIoU : 66.0289\n",
      "bi_w : 7, bi_xy_std : 60, bi_rgb_std : 4, pos_w : 3, pos_xy_std : 3  mIoU : 65.9285\n",
      "bi_w : 7, bi_xy_std : 60, bi_rgb_std : 5, pos_w : 3, pos_xy_std : 3  mIoU : 65.7992\n",
      "bi_w : 7, bi_xy_std : 60, bi_rgb_std : 6, pos_w : 3, pos_xy_std : 3  mIoU : 65.6390\n",
      "bi_w : 7, bi_xy_std : 60, bi_rgb_std : 7, pos_w : 3, pos_xy_std : 3  mIoU : 65.4911\n",
      "bi_w : 7, bi_xy_std : 60, bi_rgb_std : 8, pos_w : 3, pos_xy_std : 3  mIoU : 65.3102\n",
      "bi_w : 7, bi_xy_std : 60, bi_rgb_std : 9, pos_w : 3, pos_xy_std : 3  mIoU : 65.2401\n",
      "bi_w : 7, bi_xy_std : 60, bi_rgb_std : 10, pos_w : 3, pos_xy_std : 3  mIoU : 65.0809\n",
      "bi_w : 7, bi_xy_std : 70, bi_rgb_std : 3, pos_w : 3, pos_xy_std : 3  mIoU : 65.8264\n",
      "bi_w : 7, bi_xy_std : 70, bi_rgb_std : 4, pos_w : 3, pos_xy_std : 3  mIoU : 65.6744\n",
      "bi_w : 7, bi_xy_std : 70, bi_rgb_std : 5, pos_w : 3, pos_xy_std : 3  mIoU : 65.5467\n",
      "bi_w : 7, bi_xy_std : 70, bi_rgb_std : 6, pos_w : 3, pos_xy_std : 3  mIoU : 65.3354\n",
      "bi_w : 7, bi_xy_std : 70, bi_rgb_std : 7, pos_w : 3, pos_xy_std : 3  mIoU : 65.1326\n",
      "bi_w : 7, bi_xy_std : 70, bi_rgb_std : 8, pos_w : 3, pos_xy_std : 3  mIoU : 64.9209\n",
      "bi_w : 7, bi_xy_std : 70, bi_rgb_std : 9, pos_w : 3, pos_xy_std : 3  mIoU : 64.7464\n",
      "bi_w : 7, bi_xy_std : 70, bi_rgb_std : 10, pos_w : 3, pos_xy_std : 3  mIoU : 64.5609\n",
      "bi_w : 7, bi_xy_std : 80, bi_rgb_std : 3, pos_w : 3, pos_xy_std : 3  mIoU : 65.6792\n",
      "bi_w : 7, bi_xy_std : 80, bi_rgb_std : 4, pos_w : 3, pos_xy_std : 3  mIoU : 65.5309\n",
      "bi_w : 7, bi_xy_std : 80, bi_rgb_std : 5, pos_w : 3, pos_xy_std : 3  mIoU : 65.3434\n",
      "bi_w : 7, bi_xy_std : 80, bi_rgb_std : 6, pos_w : 3, pos_xy_std : 3  mIoU : 65.0549\n",
      "bi_w : 7, bi_xy_std : 80, bi_rgb_std : 7, pos_w : 3, pos_xy_std : 3  mIoU : 64.8350\n",
      "bi_w : 7, bi_xy_std : 80, bi_rgb_std : 8, pos_w : 3, pos_xy_std : 3  mIoU : 64.5611\n",
      "bi_w : 7, bi_xy_std : 80, bi_rgb_std : 9, pos_w : 3, pos_xy_std : 3  mIoU : 64.3557\n",
      "bi_w : 7, bi_xy_std : 80, bi_rgb_std : 10, pos_w : 3, pos_xy_std : 3  mIoU : 64.1321\n",
      "bi_w : 7, bi_xy_std : 90, bi_rgb_std : 3, pos_w : 3, pos_xy_std : 3  mIoU : 65.5339\n",
      "bi_w : 7, bi_xy_std : 90, bi_rgb_std : 4, pos_w : 3, pos_xy_std : 3  mIoU : 65.3494\n",
      "bi_w : 7, bi_xy_std : 90, bi_rgb_std : 5, pos_w : 3, pos_xy_std : 3  mIoU : 65.0512\n",
      "bi_w : 7, bi_xy_std : 90, bi_rgb_std : 6, pos_w : 3, pos_xy_std : 3  mIoU : 64.7288\n",
      "bi_w : 7, bi_xy_std : 90, bi_rgb_std : 7, pos_w : 3, pos_xy_std : 3  mIoU : 64.4718\n",
      "bi_w : 7, bi_xy_std : 90, bi_rgb_std : 8, pos_w : 3, pos_xy_std : 3  mIoU : 64.1923\n",
      "bi_w : 7, bi_xy_std : 90, bi_rgb_std : 9, pos_w : 3, pos_xy_std : 3  mIoU : 63.9208\n",
      "bi_w : 7, bi_xy_std : 90, bi_rgb_std : 10, pos_w : 3, pos_xy_std : 3  mIoU : 63.6547\n",
      "bi_w : 7, bi_xy_std : 100, bi_rgb_std : 3, pos_w : 3, pos_xy_std : 3  mIoU : 65.3798\n",
      "bi_w : 7, bi_xy_std : 100, bi_rgb_std : 4, pos_w : 3, pos_xy_std : 3  mIoU : 65.1012\n",
      "bi_w : 7, bi_xy_std : 100, bi_rgb_std : 5, pos_w : 3, pos_xy_std : 3  mIoU : 64.7286\n",
      "bi_w : 7, bi_xy_std : 100, bi_rgb_std : 6, pos_w : 3, pos_xy_std : 3  mIoU : 64.4304\n",
      "bi_w : 7, bi_xy_std : 100, bi_rgb_std : 7, pos_w : 3, pos_xy_std : 3  mIoU : 64.1114\n",
      "bi_w : 7, bi_xy_std : 100, bi_rgb_std : 8, pos_w : 3, pos_xy_std : 3  mIoU : 63.7394\n",
      "bi_w : 7, bi_xy_std : 100, bi_rgb_std : 9, pos_w : 3, pos_xy_std : 3  mIoU : 63.4440\n",
      "bi_w : 7, bi_xy_std : 100, bi_rgb_std : 10, pos_w : 3, pos_xy_std : 3  mIoU : 63.1654\n",
      "bi_w : 8, bi_xy_std : 50, bi_rgb_std : 3, pos_w : 3, pos_xy_std : 3  mIoU : 65.8916\n",
      "bi_w : 8, bi_xy_std : 50, bi_rgb_std : 4, pos_w : 3, pos_xy_std : 3  mIoU : 66.0034\n",
      "bi_w : 8, bi_xy_std : 50, bi_rgb_std : 5, pos_w : 3, pos_xy_std : 3  mIoU : 65.9179\n",
      "bi_w : 8, bi_xy_std : 50, bi_rgb_std : 6, pos_w : 3, pos_xy_std : 3  mIoU : 65.7517\n",
      "bi_w : 8, bi_xy_std : 50, bi_rgb_std : 7, pos_w : 3, pos_xy_std : 3  mIoU : 65.6294\n",
      "bi_w : 8, bi_xy_std : 50, bi_rgb_std : 8, pos_w : 3, pos_xy_std : 3  mIoU : 65.5248\n",
      "bi_w : 8, bi_xy_std : 50, bi_rgb_std : 9, pos_w : 3, pos_xy_std : 3  mIoU : 65.4253\n",
      "bi_w : 8, bi_xy_std : 50, bi_rgb_std : 10, pos_w : 3, pos_xy_std : 3  mIoU : 65.2840\n",
      "bi_w : 8, bi_xy_std : 60, bi_rgb_std : 3, pos_w : 3, pos_xy_std : 3  mIoU : 65.8546\n",
      "bi_w : 8, bi_xy_std : 60, bi_rgb_std : 4, pos_w : 3, pos_xy_std : 3  mIoU : 65.7533\n",
      "bi_w : 8, bi_xy_std : 60, bi_rgb_std : 5, pos_w : 3, pos_xy_std : 3  mIoU : 65.5988\n",
      "bi_w : 8, bi_xy_std : 60, bi_rgb_std : 6, pos_w : 3, pos_xy_std : 3  mIoU : 65.3807\n",
      "bi_w : 8, bi_xy_std : 60, bi_rgb_std : 7, pos_w : 3, pos_xy_std : 3  mIoU : 65.1960\n",
      "bi_w : 8, bi_xy_std : 60, bi_rgb_std : 8, pos_w : 3, pos_xy_std : 3  mIoU : 65.0071\n",
      "bi_w : 8, bi_xy_std : 60, bi_rgb_std : 9, pos_w : 3, pos_xy_std : 3  mIoU : 64.8792\n",
      "bi_w : 8, bi_xy_std : 60, bi_rgb_std : 10, pos_w : 3, pos_xy_std : 3  mIoU : 64.6694\n",
      "bi_w : 8, bi_xy_std : 70, bi_rgb_std : 3, pos_w : 3, pos_xy_std : 3  mIoU : 65.5880\n",
      "bi_w : 8, bi_xy_std : 70, bi_rgb_std : 4, pos_w : 3, pos_xy_std : 3  mIoU : 65.4172\n",
      "bi_w : 8, bi_xy_std : 70, bi_rgb_std : 5, pos_w : 3, pos_xy_std : 3  mIoU : 65.2271\n",
      "bi_w : 8, bi_xy_std : 70, bi_rgb_std : 6, pos_w : 3, pos_xy_std : 3  mIoU : 64.9805\n",
      "bi_w : 8, bi_xy_std : 70, bi_rgb_std : 7, pos_w : 3, pos_xy_std : 3  mIoU : 64.7178\n",
      "bi_w : 8, bi_xy_std : 70, bi_rgb_std : 8, pos_w : 3, pos_xy_std : 3  mIoU : 64.4470\n",
      "bi_w : 8, bi_xy_std : 70, bi_rgb_std : 9, pos_w : 3, pos_xy_std : 3  mIoU : 64.2438\n",
      "bi_w : 8, bi_xy_std : 70, bi_rgb_std : 10, pos_w : 3, pos_xy_std : 3  mIoU : 64.0385\n",
      "bi_w : 8, bi_xy_std : 80, bi_rgb_std : 3, pos_w : 3, pos_xy_std : 3  mIoU : 65.4684\n",
      "bi_w : 8, bi_xy_std : 80, bi_rgb_std : 4, pos_w : 3, pos_xy_std : 3  mIoU : 65.2870\n",
      "bi_w : 8, bi_xy_std : 80, bi_rgb_std : 5, pos_w : 3, pos_xy_std : 3  mIoU : 64.9862\n",
      "bi_w : 8, bi_xy_std : 80, bi_rgb_std : 6, pos_w : 3, pos_xy_std : 3  mIoU : 64.6069\n",
      "bi_w : 8, bi_xy_std : 80, bi_rgb_std : 7, pos_w : 3, pos_xy_std : 3  mIoU : 64.3080\n",
      "bi_w : 8, bi_xy_std : 80, bi_rgb_std : 8, pos_w : 3, pos_xy_std : 3  mIoU : 63.9821\n",
      "bi_w : 8, bi_xy_std : 80, bi_rgb_std : 9, pos_w : 3, pos_xy_std : 3  mIoU : 63.7641\n",
      "bi_w : 8, bi_xy_std : 80, bi_rgb_std : 10, pos_w : 3, pos_xy_std : 3  mIoU : 63.4847\n",
      "bi_w : 8, bi_xy_std : 90, bi_rgb_std : 3, pos_w : 3, pos_xy_std : 3  mIoU : 65.2302\n",
      "bi_w : 8, bi_xy_std : 90, bi_rgb_std : 4, pos_w : 3, pos_xy_std : 3  mIoU : 64.9477\n",
      "bi_w : 8, bi_xy_std : 90, bi_rgb_std : 5, pos_w : 3, pos_xy_std : 3  mIoU : 64.4928\n",
      "bi_w : 8, bi_xy_std : 90, bi_rgb_std : 6, pos_w : 3, pos_xy_std : 3  mIoU : 64.0906\n",
      "bi_w : 8, bi_xy_std : 90, bi_rgb_std : 7, pos_w : 3, pos_xy_std : 3  mIoU : 63.7821\n",
      "bi_w : 8, bi_xy_std : 90, bi_rgb_std : 8, pos_w : 3, pos_xy_std : 3  mIoU : 63.3976\n",
      "bi_w : 8, bi_xy_std : 90, bi_rgb_std : 9, pos_w : 3, pos_xy_std : 3  mIoU : 63.0401\n",
      "bi_w : 8, bi_xy_std : 90, bi_rgb_std : 10, pos_w : 3, pos_xy_std : 3  mIoU : 62.7124\n",
      "bi_w : 8, bi_xy_std : 100, bi_rgb_std : 3, pos_w : 3, pos_xy_std : 3  mIoU : 65.0357\n",
      "bi_w : 8, bi_xy_std : 100, bi_rgb_std : 4, pos_w : 3, pos_xy_std : 3  mIoU : 64.6034\n",
      "bi_w : 8, bi_xy_std : 100, bi_rgb_std : 5, pos_w : 3, pos_xy_std : 3  mIoU : 64.1449\n",
      "bi_w : 8, bi_xy_std : 100, bi_rgb_std : 6, pos_w : 3, pos_xy_std : 3  mIoU : 63.7064\n"
     ]
    },
    {
     "name": "stdout",
     "output_type": "stream",
     "text": [
      "bi_w : 8, bi_xy_std : 100, bi_rgb_std : 7, pos_w : 3, pos_xy_std : 3  mIoU : 63.3099\n",
      "bi_w : 8, bi_xy_std : 100, bi_rgb_std : 8, pos_w : 3, pos_xy_std : 3  mIoU : 62.8523\n",
      "bi_w : 8, bi_xy_std : 100, bi_rgb_std : 9, pos_w : 3, pos_xy_std : 3  mIoU : 62.4925\n",
      "bi_w : 8, bi_xy_std : 100, bi_rgb_std : 10, pos_w : 3, pos_xy_std : 3  mIoU : 62.1574\n",
      "bi_w : 9, bi_xy_std : 50, bi_rgb_std : 3, pos_w : 3, pos_xy_std : 3  mIoU : 65.7117\n",
      "bi_w : 9, bi_xy_std : 50, bi_rgb_std : 4, pos_w : 3, pos_xy_std : 3  mIoU : 65.8109\n",
      "bi_w : 9, bi_xy_std : 50, bi_rgb_std : 5, pos_w : 3, pos_xy_std : 3  mIoU : 65.7021\n",
      "bi_w : 9, bi_xy_std : 50, bi_rgb_std : 6, pos_w : 3, pos_xy_std : 3  mIoU : 65.5608\n",
      "bi_w : 9, bi_xy_std : 50, bi_rgb_std : 7, pos_w : 3, pos_xy_std : 3  mIoU : 65.4367\n",
      "bi_w : 9, bi_xy_std : 50, bi_rgb_std : 8, pos_w : 3, pos_xy_std : 3  mIoU : 65.3026\n",
      "bi_w : 9, bi_xy_std : 50, bi_rgb_std : 9, pos_w : 3, pos_xy_std : 3  mIoU : 65.1259\n",
      "bi_w : 9, bi_xy_std : 50, bi_rgb_std : 10, pos_w : 3, pos_xy_std : 3  mIoU : 64.9659\n",
      "bi_w : 9, bi_xy_std : 60, bi_rgb_std : 3, pos_w : 3, pos_xy_std : 3  mIoU : 65.6842\n",
      "bi_w : 9, bi_xy_std : 60, bi_rgb_std : 4, pos_w : 3, pos_xy_std : 3  mIoU : 65.5311\n",
      "bi_w : 9, bi_xy_std : 60, bi_rgb_std : 5, pos_w : 3, pos_xy_std : 3  mIoU : 65.3214\n",
      "bi_w : 9, bi_xy_std : 60, bi_rgb_std : 6, pos_w : 3, pos_xy_std : 3  mIoU : 65.1117\n",
      "bi_w : 9, bi_xy_std : 60, bi_rgb_std : 7, pos_w : 3, pos_xy_std : 3  mIoU : 64.8926\n",
      "bi_w : 9, bi_xy_std : 60, bi_rgb_std : 8, pos_w : 3, pos_xy_std : 3  mIoU : 64.7003\n",
      "bi_w : 9, bi_xy_std : 60, bi_rgb_std : 9, pos_w : 3, pos_xy_std : 3  mIoU : 64.5094\n",
      "bi_w : 9, bi_xy_std : 60, bi_rgb_std : 10, pos_w : 3, pos_xy_std : 3  mIoU : 64.2480\n",
      "bi_w : 9, bi_xy_std : 70, bi_rgb_std : 3, pos_w : 3, pos_xy_std : 3  mIoU : 65.3247\n",
      "bi_w : 9, bi_xy_std : 70, bi_rgb_std : 4, pos_w : 3, pos_xy_std : 3  mIoU : 65.1356\n",
      "bi_w : 9, bi_xy_std : 70, bi_rgb_std : 5, pos_w : 3, pos_xy_std : 3  mIoU : 64.9027\n",
      "bi_w : 9, bi_xy_std : 70, bi_rgb_std : 6, pos_w : 3, pos_xy_std : 3  mIoU : 64.5392\n",
      "bi_w : 9, bi_xy_std : 70, bi_rgb_std : 7, pos_w : 3, pos_xy_std : 3  mIoU : 64.2401\n",
      "bi_w : 9, bi_xy_std : 70, bi_rgb_std : 8, pos_w : 3, pos_xy_std : 3  mIoU : 63.9989\n",
      "bi_w : 9, bi_xy_std : 70, bi_rgb_std : 9, pos_w : 3, pos_xy_std : 3  mIoU : 63.7162\n",
      "bi_w : 9, bi_xy_std : 70, bi_rgb_std : 10, pos_w : 3, pos_xy_std : 3  mIoU : 63.4828\n",
      "bi_w : 9, bi_xy_std : 80, bi_rgb_std : 3, pos_w : 3, pos_xy_std : 3  mIoU : 65.1783\n",
      "bi_w : 9, bi_xy_std : 80, bi_rgb_std : 4, pos_w : 3, pos_xy_std : 3  mIoU : 64.9350\n",
      "bi_w : 9, bi_xy_std : 80, bi_rgb_std : 5, pos_w : 3, pos_xy_std : 3  mIoU : 64.5428\n",
      "bi_w : 9, bi_xy_std : 80, bi_rgb_std : 6, pos_w : 3, pos_xy_std : 3  mIoU : 64.1586\n",
      "bi_w : 9, bi_xy_std : 80, bi_rgb_std : 7, pos_w : 3, pos_xy_std : 3  mIoU : 63.8243\n",
      "bi_w : 9, bi_xy_std : 80, bi_rgb_std : 8, pos_w : 3, pos_xy_std : 3  mIoU : 63.4896\n",
      "bi_w : 9, bi_xy_std : 80, bi_rgb_std : 9, pos_w : 3, pos_xy_std : 3  mIoU : 63.1372\n",
      "bi_w : 9, bi_xy_std : 80, bi_rgb_std : 10, pos_w : 3, pos_xy_std : 3  mIoU : 62.8392\n",
      "bi_w : 9, bi_xy_std : 90, bi_rgb_std : 3, pos_w : 3, pos_xy_std : 3  mIoU : 64.9021\n",
      "bi_w : 9, bi_xy_std : 90, bi_rgb_std : 4, pos_w : 3, pos_xy_std : 3  mIoU : 64.4620\n",
      "bi_w : 9, bi_xy_std : 90, bi_rgb_std : 5, pos_w : 3, pos_xy_std : 3  mIoU : 63.9614\n",
      "bi_w : 9, bi_xy_std : 90, bi_rgb_std : 6, pos_w : 3, pos_xy_std : 3  mIoU : 63.4831\n",
      "bi_w : 9, bi_xy_std : 90, bi_rgb_std : 7, pos_w : 3, pos_xy_std : 3  mIoU : 63.1053\n",
      "bi_w : 9, bi_xy_std : 90, bi_rgb_std : 8, pos_w : 3, pos_xy_std : 3  mIoU : 62.6448\n",
      "bi_w : 9, bi_xy_std : 90, bi_rgb_std : 9, pos_w : 3, pos_xy_std : 3  mIoU : 62.2391\n",
      "bi_w : 9, bi_xy_std : 90, bi_rgb_std : 10, pos_w : 3, pos_xy_std : 3  mIoU : 61.8339\n",
      "bi_w : 9, bi_xy_std : 100, bi_rgb_std : 3, pos_w : 3, pos_xy_std : 3  mIoU : 64.5506\n",
      "bi_w : 9, bi_xy_std : 100, bi_rgb_std : 4, pos_w : 3, pos_xy_std : 3  mIoU : 64.0367\n",
      "bi_w : 9, bi_xy_std : 100, bi_rgb_std : 5, pos_w : 3, pos_xy_std : 3  mIoU : 63.4742\n",
      "bi_w : 9, bi_xy_std : 100, bi_rgb_std : 6, pos_w : 3, pos_xy_std : 3  mIoU : 63.0114\n",
      "bi_w : 9, bi_xy_std : 100, bi_rgb_std : 7, pos_w : 3, pos_xy_std : 3  mIoU : 62.5647\n",
      "bi_w : 9, bi_xy_std : 100, bi_rgb_std : 8, pos_w : 3, pos_xy_std : 3  mIoU : 62.0185\n",
      "bi_w : 9, bi_xy_std : 100, bi_rgb_std : 9, pos_w : 3, pos_xy_std : 3  mIoU : 61.4875\n",
      "bi_w : 9, bi_xy_std : 100, bi_rgb_std : 10, pos_w : 3, pos_xy_std : 3  mIoU : 61.0712\n",
      "bi_w : 10, bi_xy_std : 50, bi_rgb_std : 3, pos_w : 3, pos_xy_std : 3  mIoU : 65.5511\n",
      "bi_w : 10, bi_xy_std : 50, bi_rgb_std : 4, pos_w : 3, pos_xy_std : 3  mIoU : 65.6084\n",
      "bi_w : 10, bi_xy_std : 50, bi_rgb_std : 5, pos_w : 3, pos_xy_std : 3  mIoU : 65.4737\n",
      "bi_w : 10, bi_xy_std : 50, bi_rgb_std : 6, pos_w : 3, pos_xy_std : 3  mIoU : 65.3035\n",
      "bi_w : 10, bi_xy_std : 50, bi_rgb_std : 7, pos_w : 3, pos_xy_std : 3  mIoU : 65.1549\n",
      "bi_w : 10, bi_xy_std : 50, bi_rgb_std : 8, pos_w : 3, pos_xy_std : 3  mIoU : 64.9682\n",
      "bi_w : 10, bi_xy_std : 50, bi_rgb_std : 9, pos_w : 3, pos_xy_std : 3  mIoU : 64.7704\n",
      "bi_w : 10, bi_xy_std : 50, bi_rgb_std : 10, pos_w : 3, pos_xy_std : 3  mIoU : 64.5703\n",
      "bi_w : 10, bi_xy_std : 60, bi_rgb_std : 3, pos_w : 3, pos_xy_std : 3  mIoU : 65.4969\n",
      "bi_w : 10, bi_xy_std : 60, bi_rgb_std : 4, pos_w : 3, pos_xy_std : 3  mIoU : 65.2795\n",
      "bi_w : 10, bi_xy_std : 60, bi_rgb_std : 5, pos_w : 3, pos_xy_std : 3  mIoU : 65.0764\n",
      "bi_w : 10, bi_xy_std : 60, bi_rgb_std : 6, pos_w : 3, pos_xy_std : 3  mIoU : 64.8255\n",
      "bi_w : 10, bi_xy_std : 60, bi_rgb_std : 7, pos_w : 3, pos_xy_std : 3  mIoU : 64.5441\n",
      "bi_w : 10, bi_xy_std : 60, bi_rgb_std : 8, pos_w : 3, pos_xy_std : 3  mIoU : 64.3776\n",
      "bi_w : 10, bi_xy_std : 60, bi_rgb_std : 9, pos_w : 3, pos_xy_std : 3  mIoU : 64.1349\n",
      "bi_w : 10, bi_xy_std : 60, bi_rgb_std : 10, pos_w : 3, pos_xy_std : 3  mIoU : 63.9217\n",
      "bi_w : 10, bi_xy_std : 70, bi_rgb_std : 3, pos_w : 3, pos_xy_std : 3  mIoU : 65.0210\n",
      "bi_w : 10, bi_xy_std : 70, bi_rgb_std : 4, pos_w : 3, pos_xy_std : 3  mIoU : 64.8248\n",
      "bi_w : 10, bi_xy_std : 70, bi_rgb_std : 5, pos_w : 3, pos_xy_std : 3  mIoU : 64.4567\n",
      "bi_w : 10, bi_xy_std : 70, bi_rgb_std : 6, pos_w : 3, pos_xy_std : 3  mIoU : 64.0799\n",
      "bi_w : 10, bi_xy_std : 70, bi_rgb_std : 7, pos_w : 3, pos_xy_std : 3  mIoU : 63.7537\n",
      "bi_w : 10, bi_xy_std : 70, bi_rgb_std : 8, pos_w : 3, pos_xy_std : 3  mIoU : 63.4974\n",
      "bi_w : 10, bi_xy_std : 70, bi_rgb_std : 9, pos_w : 3, pos_xy_std : 3  mIoU : 63.1624\n",
      "bi_w : 10, bi_xy_std : 70, bi_rgb_std : 10, pos_w : 3, pos_xy_std : 3  mIoU : 62.8278\n",
      "bi_w : 10, bi_xy_std : 80, bi_rgb_std : 3, pos_w : 3, pos_xy_std : 3  mIoU : 64.8246\n",
      "bi_w : 10, bi_xy_std : 80, bi_rgb_std : 4, pos_w : 3, pos_xy_std : 3  mIoU : 64.4631\n",
      "bi_w : 10, bi_xy_std : 80, bi_rgb_std : 5, pos_w : 3, pos_xy_std : 3  mIoU : 64.0973\n",
      "bi_w : 10, bi_xy_std : 80, bi_rgb_std : 6, pos_w : 3, pos_xy_std : 3  mIoU : 63.7031\n",
      "bi_w : 10, bi_xy_std : 80, bi_rgb_std : 7, pos_w : 3, pos_xy_std : 3  mIoU : 63.2661\n",
      "bi_w : 10, bi_xy_std : 80, bi_rgb_std : 8, pos_w : 3, pos_xy_std : 3  mIoU : 62.7809\n",
      "bi_w : 10, bi_xy_std : 80, bi_rgb_std : 9, pos_w : 3, pos_xy_std : 3  mIoU : 62.1919\n",
      "bi_w : 10, bi_xy_std : 80, bi_rgb_std : 10, pos_w : 3, pos_xy_std : 3  mIoU : 61.7215\n",
      "bi_w : 10, bi_xy_std : 90, bi_rgb_std : 3, pos_w : 3, pos_xy_std : 3  mIoU : 64.4208\n",
      "bi_w : 10, bi_xy_std : 90, bi_rgb_std : 4, pos_w : 3, pos_xy_std : 3  mIoU : 63.9970\n",
      "bi_w : 10, bi_xy_std : 90, bi_rgb_std : 5, pos_w : 3, pos_xy_std : 3  mIoU : 63.4875\n",
      "bi_w : 10, bi_xy_std : 90, bi_rgb_std : 6, pos_w : 3, pos_xy_std : 3  mIoU : 63.0255\n",
      "bi_w : 10, bi_xy_std : 90, bi_rgb_std : 7, pos_w : 3, pos_xy_std : 3  mIoU : 62.4784\n",
      "bi_w : 10, bi_xy_std : 90, bi_rgb_std : 8, pos_w : 3, pos_xy_std : 3  mIoU : 61.8016\n",
      "bi_w : 10, bi_xy_std : 90, bi_rgb_std : 9, pos_w : 3, pos_xy_std : 3  mIoU : 61.2098\n",
      "bi_w : 10, bi_xy_std : 90, bi_rgb_std : 10, pos_w : 3, pos_xy_std : 3  mIoU : 60.8012\n",
      "bi_w : 10, bi_xy_std : 100, bi_rgb_std : 3, pos_w : 3, pos_xy_std : 3  mIoU : 64.0650\n",
      "bi_w : 10, bi_xy_std : 100, bi_rgb_std : 4, pos_w : 3, pos_xy_std : 3  mIoU : 63.4383\n",
      "bi_w : 10, bi_xy_std : 100, bi_rgb_std : 5, pos_w : 3, pos_xy_std : 3  mIoU : 62.9741\n",
      "bi_w : 10, bi_xy_std : 100, bi_rgb_std : 6, pos_w : 3, pos_xy_std : 3  mIoU : 62.3973\n",
      "bi_w : 10, bi_xy_std : 100, bi_rgb_std : 7, pos_w : 3, pos_xy_std : 3  mIoU : 61.5705\n"
     ]
    },
    {
     "name": "stdout",
     "output_type": "stream",
     "text": [
      "bi_w : 10, bi_xy_std : 100, bi_rgb_std : 8, pos_w : 3, pos_xy_std : 3  mIoU : 60.9208\n",
      "bi_w : 10, bi_xy_std : 100, bi_rgb_std : 9, pos_w : 3, pos_xy_std : 3  mIoU : 60.3812\n",
      "bi_w : 10, bi_xy_std : 100, bi_rgb_std : 10, pos_w : 3, pos_xy_std : 3  mIoU : 59.9598\n"
     ]
    }
   ],
   "source": [
    "DeepLab_v1.grid_search(loader, iter_max, bi_ws, bi_xy_stds, bi_rgb_stds, pos_ws, pos_xy_stds)"
   ]
  }
 ],
 "metadata": {
  "kernelspec": {
   "display_name": "Python 3",
   "language": "python",
   "name": "python3"
  },
  "language_info": {
   "codemirror_mode": {
    "name": "ipython",
    "version": 3
   },
   "file_extension": ".py",
   "mimetype": "text/x-python",
   "name": "python",
   "nbconvert_exporter": "python",
   "pygments_lexer": "ipython3",
   "version": "3.6.9"
  }
 },
 "nbformat": 4,
 "nbformat_minor": 2
}
