{
 "cells": [
  {
   "cell_type": "markdown",
   "metadata": {},
   "source": [
    "# VGG16_LargeFOV\n",
    "\n",
    "## 1. Environment Setup\n",
    "### 1.0. Check GPU"
   ]
  },
  {
   "cell_type": "code",
   "execution_count": 1,
   "metadata": {},
   "outputs": [
    {
     "name": "stdout",
     "output_type": "stream",
     "text": [
      "Tue Feb  2 09:23:15 2021       \n",
      "+-----------------------------------------------------------------------------+\n",
      "| NVIDIA-SMI 450.80.02    Driver Version: 450.80.02    CUDA Version: 11.0     |\n",
      "|-------------------------------+----------------------+----------------------+\n",
      "| GPU  Name        Persistence-M| Bus-Id        Disp.A | Volatile Uncorr. ECC |\n",
      "| Fan  Temp  Perf  Pwr:Usage/Cap|         Memory-Usage | GPU-Util  Compute M. |\n",
      "|                               |                      |               MIG M. |\n",
      "|===============================+======================+======================|\n",
      "|   0  A100-SXM4-40GB      On   | 00000000:07:00.0 Off |                    0 |\n",
      "| N/A   34C    P0   150W / 400W |  39078MiB / 40537MiB |    100%      Default |\n",
      "|                               |                      |             Enabled* |\n",
      "+-------------------------------+----------------------+----------------------+\n",
      "|   1  A100-SXM4-40GB      On   | 00000000:0F:00.0 Off |                    0 |\n",
      "| N/A   25C    P0    54W / 400W |      3MiB / 40537MiB |      0%      Default |\n",
      "|                               |                      |             Enabled* |\n",
      "+-------------------------------+----------------------+----------------------+\n",
      "|   2  A100-SXM4-40GB      On   | 00000000:47:00.0 Off |                    0 |\n",
      "| N/A   26C    P0    68W / 400W |      3MiB / 40537MiB |      0%      Default |\n",
      "|                               |                      |             Enabled* |\n",
      "+-------------------------------+----------------------+----------------------+\n",
      "|   3  A100-SXM4-40GB      On   | 00000000:4E:00.0 Off |                    0 |\n",
      "| N/A   59C    P0   327W / 400W |  16254MiB / 40537MiB |     99%      Default |\n",
      "|                               |                      |             Enabled* |\n",
      "+-------------------------------+----------------------+----------------------+\n",
      "|   4  A100-SXM4-40GB      On   | 00000000:87:00.0 Off |                    0 |\n",
      "| N/A   33C    P0    59W / 400W |  17810MiB / 40537MiB |      0%      Default |\n",
      "|                               |                      |             Enabled* |\n",
      "+-------------------------------+----------------------+----------------------+\n",
      "|   5  A100-SXM4-40GB      On   | 00000000:90:00.0 Off |                    0 |\n",
      "| N/A   29C    P0    59W / 400W |  18102MiB / 40537MiB |      0%      Default |\n",
      "|                               |                      |             Enabled* |\n",
      "+-------------------------------+----------------------+----------------------+\n",
      "|   6  A100-SXM4-40GB      On   | 00000000:B7:00.0 Off |                    0 |\n",
      "| N/A   34C    P0    78W / 400W |  39080MiB / 40537MiB |     38%      Default |\n",
      "|                               |                      |             Enabled* |\n",
      "+-------------------------------+----------------------+----------------------+\n",
      "|   7  A100-SXM4-40GB      On   | 00000000:BD:00.0 Off |                    0 |\n",
      "| N/A   42C    P0    59W / 400W |      3MiB / 40537MiB |      0%      Default |\n",
      "|                               |                      |             Enabled* |\n",
      "+-------------------------------+----------------------+----------------------+\n",
      "                                                                               \n",
      "+-----------------------------------------------------------------------------+\n",
      "| Processes:                                                                  |\n",
      "|  GPU   GI   CI        PID   Type   Process name                  GPU Memory |\n",
      "|        ID   ID                                                   Usage      |\n",
      "|=============================================================================|\n",
      "+-----------------------------------------------------------------------------+\n"
     ]
    }
   ],
   "source": [
    "!nvidia-smi"
   ]
  },
  {
   "cell_type": "code",
   "execution_count": 2,
   "metadata": {},
   "outputs": [
    {
     "name": "stdout",
     "output_type": "stream",
     "text": [
      "nvcc: NVIDIA (R) Cuda compiler driver\r\n",
      "Copyright (c) 2005-2020 NVIDIA Corporation\r\n",
      "Built on Wed_Jul_22_19:09:09_PDT_2020\r\n",
      "Cuda compilation tools, release 11.0, V11.0.221\r\n",
      "Build cuda_11.0_bu.TC445_37.28845127_0\r\n"
     ]
    }
   ],
   "source": [
    "!nvcc --version"
   ]
  },
  {
   "cell_type": "code",
   "execution_count": null,
   "metadata": {},
   "outputs": [],
   "source": []
  },
  {
   "cell_type": "markdown",
   "metadata": {},
   "source": [
    "### 1.1. Install Pytorch and torchvision"
   ]
  },
  {
   "cell_type": "code",
   "execution_count": 3,
   "metadata": {},
   "outputs": [
    {
     "name": "stdout",
     "output_type": "stream",
     "text": [
      "Looking in links: https://download.pytorch.org/whl/torch_stable.html\n",
      "Requirement already satisfied: torch==1.7.1+cu110 in /usr/local/lib/python3.6/dist-packages (1.7.1+cu110)\n",
      "Requirement already satisfied: torchvision==0.8.2+cu110 in /usr/local/lib/python3.6/dist-packages (0.8.2+cu110)\n",
      "Requirement already satisfied: torchaudio===0.7.2 in /usr/local/lib/python3.6/dist-packages (0.7.2)\n",
      "Requirement already satisfied: typing-extensions in /usr/local/lib/python3.6/dist-packages (from torch==1.7.1+cu110) (3.7.4.3)\n",
      "Requirement already satisfied: dataclasses; python_version < \"3.7\" in /usr/local/lib/python3.6/dist-packages (from torch==1.7.1+cu110) (0.8)\n",
      "Requirement already satisfied: numpy in /usr/local/lib/python3.6/dist-packages (from torch==1.7.1+cu110) (1.19.4)\n",
      "Requirement already satisfied: pillow>=4.1.1 in /usr/local/lib/python3.6/dist-packages (from torchvision==0.8.2+cu110) (8.0.1)\n",
      "\u001b[33mWARNING: You are using pip version 20.2.4; however, version 21.0.1 is available.\n",
      "You should consider upgrading via the '/usr/bin/python3 -m pip install --upgrade pip' command.\u001b[0m\n"
     ]
    }
   ],
   "source": [
    "!pip install torch==1.7.1+cu110 torchvision==0.8.2+cu110 torchaudio===0.7.2 -f https://download.pytorch.org/whl/torch_stable.html"
   ]
  },
  {
   "cell_type": "code",
   "execution_count": null,
   "metadata": {},
   "outputs": [],
   "source": []
  },
  {
   "cell_type": "markdown",
   "metadata": {},
   "source": [
    "### 1.2. Install scipy"
   ]
  },
  {
   "cell_type": "code",
   "execution_count": 4,
   "metadata": {},
   "outputs": [
    {
     "name": "stdout",
     "output_type": "stream",
     "text": [
      "Requirement already satisfied: scipy in /usr/local/lib/python3.6/dist-packages (1.5.4)\n",
      "Requirement already satisfied: numpy>=1.14.5 in /usr/local/lib/python3.6/dist-packages (from scipy) (1.19.4)\n",
      "\u001b[33mWARNING: You are using pip version 20.2.4; however, version 21.0.1 is available.\n",
      "You should consider upgrading via the '/usr/bin/python3 -m pip install --upgrade pip' command.\u001b[0m\n"
     ]
    }
   ],
   "source": [
    "!pip install scipy"
   ]
  },
  {
   "cell_type": "code",
   "execution_count": null,
   "metadata": {},
   "outputs": [],
   "source": []
  },
  {
   "cell_type": "markdown",
   "metadata": {},
   "source": [
    "### 1.3. Import"
   ]
  },
  {
   "cell_type": "code",
   "execution_count": 5,
   "metadata": {},
   "outputs": [],
   "source": [
    "import augmentation, model, train\n",
    "\n",
    "import torch\n",
    "import torchvision\n",
    "\n",
    "# Ignore Warning\n",
    "import warnings\n",
    "warnings.filterwarnings(action='ignore')"
   ]
  },
  {
   "cell_type": "code",
   "execution_count": null,
   "metadata": {},
   "outputs": [],
   "source": []
  },
  {
   "cell_type": "markdown",
   "metadata": {},
   "source": [
    "## 2. Data Preprocessing"
   ]
  },
  {
   "cell_type": "code",
   "execution_count": 6,
   "metadata": {},
   "outputs": [],
   "source": [
    "train_batch_size = 30\n",
    "test_batch_size = 1"
   ]
  },
  {
   "cell_type": "code",
   "execution_count": 7,
   "metadata": {
    "scrolled": true
   },
   "outputs": [
    {
     "name": "stdout",
     "output_type": "stream",
     "text": [
      "Using downloaded and verified file: ./benchmark.tgz\n",
      "Downloading http://home.bharathh.info/pubs/codes/SBD/train_noval.txt to ./train_noval.txt\n"
     ]
    },
    {
     "name": "stderr",
     "output_type": "stream",
     "text": [
      "109.3%"
     ]
    },
    {
     "name": "stdout",
     "output_type": "stream",
     "text": [
      "Using downloaded and verified file: ./VOCtrainval_11-May-2012.tar\n"
     ]
    }
   ],
   "source": [
    "train_tf = augmentation.Mask_Aug(transforms=[augmentation.ToTensor(), augmentation.PILToTensor(), \n",
    "                                             augmentation.Resize((256, 256)), augmentation.RandomCrop((224, 224)), \n",
    "                                             augmentation.RandomHorizontalFlip(),\n",
    "                                             augmentation.Normalize(mean=[0.485, 0.456, 0.406], std=[0.229, 0.224, 0.225])])\n",
    "\n",
    "val_tf = augmentation.Mask_Aug(transforms=[augmentation.ToTensor(), augmentation.PILToTensor(), \n",
    "                                           augmentation.Resize((256, 256)),\n",
    "                                           augmentation.Normalize(mean=[0.485, 0.456, 0.406], std=[0.229, 0.224, 0.225])])\n",
    "\n",
    "train_dataset = torchvision.datasets.SBDataset(root='./', image_set='train_noval', mode='segmentation', download=False, transforms=train_tf)\n",
    "train_loader = torch.utils.data.DataLoader(train_dataset, batch_size=train_batch_size, shuffle=True, num_workers=4, pin_memory=True)\n",
    "\n",
    "val_dataset = torchvision.datasets.VOCSegmentation(root='./', year='2012', image_set='val', download=False, transforms=val_tf)\n",
    "val_loader = torch.utils.data.DataLoader(val_dataset, batch_size=test_batch_size, shuffle=False, num_workers=4, pin_memory=True)"
   ]
  },
  {
   "cell_type": "code",
   "execution_count": null,
   "metadata": {},
   "outputs": [],
   "source": []
  },
  {
   "cell_type": "markdown",
   "metadata": {},
   "source": [
    "## 3. Train Model"
   ]
  },
  {
   "cell_type": "code",
   "execution_count": 8,
   "metadata": {},
   "outputs": [],
   "source": [
    "num_classes = 21\n",
    "init_weights = True\n",
    "\n",
    "ignore_index = 255\n",
    "\n",
    "gpu_id = 7\n",
    "print_freq = 50\n",
    "epoch_print = 5\n",
    "\n",
    "save = True\n",
    "epochs = 200\n",
    "\n",
    "lr = 0.001\n",
    "momentum = 0.9\n",
    "weight_decay = 0.0005"
   ]
  },
  {
   "cell_type": "code",
   "execution_count": 9,
   "metadata": {
    "scrolled": true
   },
   "outputs": [],
   "source": [
    "VGG16_LargeFOV = train.VGG16_LargeFOV(num_classes=num_classes, init_weights=init_weights, ignore_index=ignore_index, \n",
    "                                      gpu_id=gpu_id, print_freq=print_freq, epoch_print=epoch_print)"
   ]
  },
  {
   "cell_type": "code",
   "execution_count": 10,
   "metadata": {
    "scrolled": true
   },
   "outputs": [
    {
     "name": "stdout",
     "output_type": "stream",
     "text": [
      "Epoch 1 Started...\n",
      "\n",
      "*********************************** Best mIoU Updated ***********************************\n",
      "Iteration : 50 - Train Loss : 1.725006, Test Loss : 1.419613, Test mIoU : 3.4907\n",
      "Saved Best Model\n",
      "\n",
      "\n",
      "*********************************** Best mIoU Updated ***********************************\n",
      "Iteration : 100 - Train Loss : 1.334032, Test Loss : 1.229714, Test mIoU : 3.8550\n",
      "Saved Best Model\n",
      "\n",
      "\n",
      "*********************************** Best mIoU Updated ***********************************\n",
      "Iteration : 150 - Train Loss : 1.105385, Test Loss : 1.019418, Test mIoU : 8.4972\n",
      "Saved Best Model\n",
      "\n",
      "Epoch 6 Started...\n",
      "\n",
      "*********************************** Best mIoU Updated ***********************************\n",
      "Iteration : 50 - Train Loss : 0.492005, Test Loss : 0.461120, Test mIoU : 45.0124\n",
      "Saved Best Model\n",
      "\n",
      "\n",
      "*********************************** Best mIoU Updated ***********************************\n",
      "Iteration : 100 - Train Loss : 0.672748, Test Loss : 0.472144, Test mIoU : 45.6521\n",
      "Saved Best Model\n",
      "\n",
      "\n",
      "*********************************** Best mIoU Updated ***********************************\n",
      "Iteration : 150 - Train Loss : 0.359753, Test Loss : 0.453404, Test mIoU : 47.0164\n",
      "Saved Best Model\n",
      "\n",
      "Epoch 11 Started...\n",
      "\n",
      "*********************************** Best mIoU Updated ***********************************\n",
      "Iteration : 50 - Train Loss : 0.362541, Test Loss : 0.414493, Test mIoU : 52.4525\n",
      "Saved Best Model\n",
      "\n",
      "Iteration : 100 - Train Loss : 0.341436, Test Loss : 0.440849, Test mIoU : 51.1231\n",
      "Iteration : 150 - Train Loss : 0.319845, Test Loss : 0.435708, Test mIoU : 51.2857\n",
      "Epoch 16 Started...\n",
      "\n",
      "*********************************** Best mIoU Updated ***********************************\n",
      "Iteration : 50 - Train Loss : 0.370943, Test Loss : 0.405734, Test mIoU : 53.6342\n",
      "Saved Best Model\n",
      "\n",
      "\n",
      "*********************************** Best mIoU Updated ***********************************\n",
      "Iteration : 100 - Train Loss : 0.395061, Test Loss : 0.394139, Test mIoU : 54.0726\n",
      "Saved Best Model\n",
      "\n",
      "Iteration : 150 - Train Loss : 0.369799, Test Loss : 0.390244, Test mIoU : 53.8983\n",
      "Epoch 21 Started...\n",
      "\n",
      "*********************************** Best mIoU Updated ***********************************\n",
      "Iteration : 50 - Train Loss : 0.316625, Test Loss : 0.375853, Test mIoU : 55.5669\n",
      "Saved Best Model\n",
      "\n",
      "\n",
      "*********************************** Best mIoU Updated ***********************************\n",
      "Iteration : 100 - Train Loss : 0.284579, Test Loss : 0.375838, Test mIoU : 55.8156\n",
      "Saved Best Model\n",
      "\n",
      "Iteration : 150 - Train Loss : 0.361005, Test Loss : 0.388608, Test mIoU : 55.2143\n",
      "Epoch 26 Started...\n",
      "\n",
      "*********************************** Best mIoU Updated ***********************************\n",
      "Iteration : 50 - Train Loss : 0.291558, Test Loss : 0.377020, Test mIoU : 55.8931\n",
      "Saved Best Model\n",
      "\n",
      "Iteration : 100 - Train Loss : 0.432254, Test Loss : 0.385010, Test mIoU : 55.2063\n",
      "Iteration : 150 - Train Loss : 0.476825, Test Loss : 0.382538, Test mIoU : 55.5981\n",
      "Epoch 31 Started...\n",
      "\n",
      "*********************************** Best mIoU Updated ***********************************\n",
      "Iteration : 50 - Train Loss : 0.310539, Test Loss : 0.366811, Test mIoU : 56.8084\n",
      "Saved Best Model\n",
      "\n",
      "Iteration : 100 - Train Loss : 0.342632, Test Loss : 0.373597, Test mIoU : 56.5017\n",
      "Iteration : 150 - Train Loss : 0.285526, Test Loss : 0.380829, Test mIoU : 55.6077\n",
      "Epoch 36 Started...\n",
      "\n",
      "*********************************** Best mIoU Updated ***********************************\n",
      "Iteration : 50 - Train Loss : 0.318542, Test Loss : 0.365535, Test mIoU : 56.9876\n",
      "Saved Best Model\n",
      "\n",
      "Iteration : 100 - Train Loss : 0.284568, Test Loss : 0.385514, Test mIoU : 56.2490\n",
      "\n",
      "*********************************** Best mIoU Updated ***********************************\n",
      "Iteration : 150 - Train Loss : 0.252266, Test Loss : 0.370933, Test mIoU : 57.1708\n",
      "Saved Best Model\n",
      "\n",
      "Epoch 41 Started...\n",
      "\n",
      "*********************************** Best mIoU Updated ***********************************\n",
      "Iteration : 50 - Train Loss : 0.294360, Test Loss : 0.383719, Test mIoU : 57.2720\n",
      "Saved Best Model\n",
      "\n",
      "Iteration : 100 - Train Loss : 0.240903, Test Loss : 0.381378, Test mIoU : 57.0019\n",
      "Iteration : 150 - Train Loss : 0.272952, Test Loss : 0.377517, Test mIoU : 56.9168\n",
      "Epoch 46 Started...\n",
      "Iteration : 50 - Train Loss : 0.245362, Test Loss : 0.382446, Test mIoU : 57.1427\n",
      "Iteration : 100 - Train Loss : 0.313419, Test Loss : 0.364320, Test mIoU : 57.2027\n",
      "\n",
      "*********************************** Best mIoU Updated ***********************************\n",
      "Iteration : 150 - Train Loss : 0.213697, Test Loss : 0.364588, Test mIoU : 58.0635\n",
      "Saved Best Model\n",
      "\n",
      "Epoch 51 Started...\n",
      "\n",
      "*********************************** Best mIoU Updated ***********************************\n",
      "Iteration : 50 - Train Loss : 0.267449, Test Loss : 0.363886, Test mIoU : 58.2885\n",
      "Saved Best Model\n",
      "\n",
      "Iteration : 100 - Train Loss : 0.283949, Test Loss : 0.382376, Test mIoU : 57.8565\n",
      "Iteration : 150 - Train Loss : 0.208313, Test Loss : 0.363834, Test mIoU : 58.1244\n",
      "Epoch 56 Started...\n",
      "\n",
      "*********************************** Best mIoU Updated ***********************************\n",
      "Iteration : 50 - Train Loss : 0.182548, Test Loss : 0.364446, Test mIoU : 58.4822\n",
      "Saved Best Model\n",
      "\n",
      "Iteration : 100 - Train Loss : 0.179750, Test Loss : 0.373725, Test mIoU : 58.0995\n",
      "Iteration : 150 - Train Loss : 0.218516, Test Loss : 0.365975, Test mIoU : 58.2800\n",
      "Epoch 61 Started...\n",
      "\n",
      "*********************************** Best mIoU Updated ***********************************\n",
      "Iteration : 50 - Train Loss : 0.220624, Test Loss : 0.371549, Test mIoU : 58.5307\n",
      "Saved Best Model\n",
      "\n",
      "Iteration : 100 - Train Loss : 0.242978, Test Loss : 0.373787, Test mIoU : 58.3845\n",
      "\n",
      "*********************************** Best mIoU Updated ***********************************\n",
      "Iteration : 150 - Train Loss : 0.257249, Test Loss : 0.363744, Test mIoU : 58.6863\n",
      "Saved Best Model\n",
      "\n",
      "Epoch 66 Started...\n",
      "\n",
      "*********************************** Best mIoU Updated ***********************************\n",
      "Iteration : 50 - Train Loss : 0.237501, Test Loss : 0.368051, Test mIoU : 58.7151\n",
      "Saved Best Model\n",
      "\n",
      "Iteration : 100 - Train Loss : 0.192550, Test Loss : 0.374028, Test mIoU : 58.5463\n",
      "Iteration : 150 - Train Loss : 0.193923, Test Loss : 0.380645, Test mIoU : 58.5600\n",
      "Epoch 71 Started...\n",
      "\n",
      "*********************************** Best mIoU Updated ***********************************\n",
      "Iteration : 50 - Train Loss : 0.198129, Test Loss : 0.371407, Test mIoU : 58.8210\n",
      "Saved Best Model\n",
      "\n",
      "Iteration : 100 - Train Loss : 0.180349, Test Loss : 0.380808, Test mIoU : 58.5454\n",
      "Iteration : 150 - Train Loss : 0.193388, Test Loss : 0.391410, Test mIoU : 58.0460\n",
      "Epoch 76 Started...\n",
      "\n",
      "*********************************** Best mIoU Updated ***********************************\n",
      "Iteration : 50 - Train Loss : 0.178595, Test Loss : 0.366526, Test mIoU : 59.3286\n",
      "Saved Best Model\n",
      "\n",
      "Iteration : 100 - Train Loss : 0.171802, Test Loss : 0.371428, Test mIoU : 58.9343\n",
      "Iteration : 150 - Train Loss : 0.197554, Test Loss : 0.371861, Test mIoU : 58.9350\n",
      "Epoch 81 Started...\n",
      "Iteration : 50 - Train Loss : 0.218012, Test Loss : 0.384626, Test mIoU : 58.7593\n",
      "Iteration : 100 - Train Loss : 0.207857, Test Loss : 0.373752, Test mIoU : 59.1109\n",
      "Iteration : 150 - Train Loss : 0.165478, Test Loss : 0.377132, Test mIoU : 58.7316\n",
      "Epoch 86 Started...\n",
      "Iteration : 50 - Train Loss : 0.197781, Test Loss : 0.384865, Test mIoU : 58.8774\n",
      "\n",
      "*********************************** Best mIoU Updated ***********************************\n",
      "Iteration : 100 - Train Loss : 0.199639, Test Loss : 0.379595, Test mIoU : 59.3985\n",
      "Saved Best Model\n",
      "\n",
      "\n",
      "*********************************** Best mIoU Updated ***********************************\n",
      "Iteration : 150 - Train Loss : 0.192833, Test Loss : 0.373400, Test mIoU : 59.4996\n",
      "Saved Best Model\n",
      "\n",
      "Epoch 91 Started...\n",
      "Iteration : 50 - Train Loss : 0.173996, Test Loss : 0.384159, Test mIoU : 59.3677\n",
      "Iteration : 100 - Train Loss : 0.195569, Test Loss : 0.377539, Test mIoU : 59.0837\n",
      "Iteration : 150 - Train Loss : 0.164650, Test Loss : 0.385920, Test mIoU : 58.9312\n",
      "Epoch 96 Started...\n",
      "Iteration : 50 - Train Loss : 0.237367, Test Loss : 0.382681, Test mIoU : 59.3183\n",
      "Iteration : 100 - Train Loss : 0.153000, Test Loss : 0.383028, Test mIoU : 59.1272\n",
      "Iteration : 150 - Train Loss : 0.193552, Test Loss : 0.390496, Test mIoU : 58.9377\n",
      "Epoch 101 Started...\n"
     ]
    },
    {
     "name": "stdout",
     "output_type": "stream",
     "text": [
      "\n",
      "*********************************** Best mIoU Updated ***********************************\n",
      "Iteration : 50 - Train Loss : 0.181136, Test Loss : 0.379694, Test mIoU : 59.5781\n",
      "Saved Best Model\n",
      "\n",
      "Iteration : 100 - Train Loss : 0.137960, Test Loss : 0.399642, Test mIoU : 58.6219\n",
      "Iteration : 150 - Train Loss : 0.158613, Test Loss : 0.388408, Test mIoU : 59.4652\n",
      "Epoch 106 Started...\n",
      "\n",
      "*********************************** Best mIoU Updated ***********************************\n",
      "Iteration : 50 - Train Loss : 0.148515, Test Loss : 0.380978, Test mIoU : 59.8859\n",
      "Saved Best Model\n",
      "\n",
      "Iteration : 100 - Train Loss : 0.184816, Test Loss : 0.384824, Test mIoU : 59.7185\n",
      "Iteration : 150 - Train Loss : 0.165988, Test Loss : 0.395679, Test mIoU : 58.7030\n",
      "Epoch 111 Started...\n",
      "Iteration : 50 - Train Loss : 0.154349, Test Loss : 0.386386, Test mIoU : 59.6293\n",
      "Iteration : 100 - Train Loss : 0.198688, Test Loss : 0.386850, Test mIoU : 59.8337\n",
      "\n",
      "*********************************** Best mIoU Updated ***********************************\n",
      "Iteration : 150 - Train Loss : 0.187783, Test Loss : 0.392594, Test mIoU : 59.9731\n",
      "Saved Best Model\n",
      "\n",
      "Epoch 116 Started...\n",
      "Iteration : 50 - Train Loss : 0.152305, Test Loss : 0.396121, Test mIoU : 59.1389\n",
      "Iteration : 100 - Train Loss : 0.150175, Test Loss : 0.392568, Test mIoU : 59.8676\n",
      "Iteration : 150 - Train Loss : 0.203798, Test Loss : 0.399062, Test mIoU : 58.9481\n",
      "Epoch 121 Started...\n",
      "Iteration : 50 - Train Loss : 0.158723, Test Loss : 0.399989, Test mIoU : 59.1709\n",
      "Iteration : 100 - Train Loss : 0.197123, Test Loss : 0.398465, Test mIoU : 59.7169\n",
      "Iteration : 150 - Train Loss : 0.142182, Test Loss : 0.391391, Test mIoU : 59.4507\n",
      "Epoch 126 Started...\n",
      "Iteration : 50 - Train Loss : 0.141744, Test Loss : 0.395316, Test mIoU : 59.6074\n",
      "Iteration : 100 - Train Loss : 0.195878, Test Loss : 0.392793, Test mIoU : 59.6833\n",
      "Iteration : 150 - Train Loss : 0.142273, Test Loss : 0.390996, Test mIoU : 59.6602\n",
      "Epoch 131 Started...\n",
      "Iteration : 50 - Train Loss : 0.124835, Test Loss : 0.399386, Test mIoU : 59.7818\n",
      "Iteration : 100 - Train Loss : 0.172893, Test Loss : 0.396612, Test mIoU : 59.7717\n",
      "Iteration : 150 - Train Loss : 0.125938, Test Loss : 0.398604, Test mIoU : 59.8775\n",
      "Epoch 136 Started...\n",
      "Iteration : 50 - Train Loss : 0.164873, Test Loss : 0.416786, Test mIoU : 58.9490\n",
      "Iteration : 100 - Train Loss : 0.126441, Test Loss : 0.403377, Test mIoU : 59.8634\n",
      "Iteration : 150 - Train Loss : 0.135938, Test Loss : 0.410315, Test mIoU : 59.6722\n",
      "Epoch 141 Started...\n",
      "Iteration : 50 - Train Loss : 0.126361, Test Loss : 0.412366, Test mIoU : 59.3522\n",
      "Iteration : 100 - Train Loss : 0.099787, Test Loss : 0.407978, Test mIoU : 59.7249\n",
      "\n",
      "*********************************** Best mIoU Updated ***********************************\n",
      "Iteration : 150 - Train Loss : 0.135391, Test Loss : 0.393918, Test mIoU : 60.0739\n",
      "Saved Best Model\n",
      "\n",
      "Epoch 146 Started...\n",
      "Iteration : 50 - Train Loss : 0.155756, Test Loss : 0.412187, Test mIoU : 59.3987\n",
      "Iteration : 100 - Train Loss : 0.156555, Test Loss : 0.410980, Test mIoU : 59.5374\n",
      "Iteration : 150 - Train Loss : 0.143887, Test Loss : 0.402445, Test mIoU : 59.4357\n",
      "Epoch 151 Started...\n",
      "Iteration : 50 - Train Loss : 0.146576, Test Loss : 0.389453, Test mIoU : 59.8119\n",
      "Iteration : 100 - Train Loss : 0.142495, Test Loss : 0.390354, Test mIoU : 59.6643\n",
      "\n",
      "*********************************** Best mIoU Updated ***********************************\n",
      "Iteration : 150 - Train Loss : 0.143948, Test Loss : 0.409905, Test mIoU : 60.0900\n",
      "Saved Best Model\n",
      "\n",
      "Epoch 156 Started...\n",
      "Iteration : 50 - Train Loss : 0.112952, Test Loss : 0.411418, Test mIoU : 59.8991\n",
      "Iteration : 100 - Train Loss : 0.177873, Test Loss : 0.414895, Test mIoU : 59.5966\n",
      "Iteration : 150 - Train Loss : 0.145357, Test Loss : 0.404904, Test mIoU : 60.0689\n",
      "Epoch 161 Started...\n",
      "Iteration : 50 - Train Loss : 0.114102, Test Loss : 0.414461, Test mIoU : 60.0105\n",
      "Iteration : 100 - Train Loss : 0.129020, Test Loss : 0.413195, Test mIoU : 60.0299\n",
      "Iteration : 150 - Train Loss : 0.156966, Test Loss : 0.416584, Test mIoU : 59.7130\n",
      "Epoch 166 Started...\n",
      "Iteration : 50 - Train Loss : 0.152468, Test Loss : 0.420893, Test mIoU : 59.9000\n",
      "Iteration : 100 - Train Loss : 0.121767, Test Loss : 0.426694, Test mIoU : 59.4802\n",
      "Iteration : 150 - Train Loss : 0.129635, Test Loss : 0.419632, Test mIoU : 59.8647\n",
      "Epoch 171 Started...\n",
      "Iteration : 50 - Train Loss : 0.155293, Test Loss : 0.422439, Test mIoU : 59.9097\n",
      "Iteration : 100 - Train Loss : 0.151613, Test Loss : 0.417335, Test mIoU : 59.6530\n",
      "\n",
      "*********************************** Best mIoU Updated ***********************************\n",
      "Iteration : 150 - Train Loss : 0.152379, Test Loss : 0.414649, Test mIoU : 60.1599\n",
      "Saved Best Model\n",
      "\n",
      "Epoch 176 Started...\n",
      "Iteration : 50 - Train Loss : 0.127999, Test Loss : 0.424474, Test mIoU : 59.8509\n",
      "Iteration : 100 - Train Loss : 0.133351, Test Loss : 0.428353, Test mIoU : 59.6398\n",
      "Iteration : 150 - Train Loss : 0.138121, Test Loss : 0.421655, Test mIoU : 60.0927\n",
      "Epoch 181 Started...\n",
      "\n",
      "*********************************** Best mIoU Updated ***********************************\n",
      "Iteration : 50 - Train Loss : 0.138759, Test Loss : 0.417307, Test mIoU : 60.3516\n",
      "Saved Best Model\n",
      "\n",
      "Iteration : 100 - Train Loss : 0.120607, Test Loss : 0.423517, Test mIoU : 60.0374\n",
      "Iteration : 150 - Train Loss : 0.148983, Test Loss : 0.423456, Test mIoU : 60.1276\n",
      "Epoch 186 Started...\n",
      "Iteration : 50 - Train Loss : 0.140157, Test Loss : 0.422050, Test mIoU : 60.1546\n",
      "Iteration : 100 - Train Loss : 0.145245, Test Loss : 0.433737, Test mIoU : 59.8847\n",
      "Iteration : 150 - Train Loss : 0.151500, Test Loss : 0.430763, Test mIoU : 60.0222\n",
      "Epoch 191 Started...\n",
      "Iteration : 50 - Train Loss : 0.119350, Test Loss : 0.435411, Test mIoU : 59.4552\n",
      "Iteration : 100 - Train Loss : 0.144355, Test Loss : 0.428286, Test mIoU : 59.8251\n",
      "Iteration : 150 - Train Loss : 0.113561, Test Loss : 0.425793, Test mIoU : 59.9348\n",
      "Epoch 196 Started...\n",
      "Iteration : 50 - Train Loss : 0.162470, Test Loss : 0.434379, Test mIoU : 60.0578\n",
      "Iteration : 100 - Train Loss : 0.102657, Test Loss : 0.431927, Test mIoU : 59.9711\n",
      "Iteration : 150 - Train Loss : 0.128448, Test Loss : 0.434674, Test mIoU : 59.8718\n"
     ]
    }
   ],
   "source": [
    "VGG16_LargeFOV.train(train_loader, val_loader, save=save, epochs=epochs, lr=lr, momentum=momentum, weight_decay=weight_decay)"
   ]
  }
 ],
 "metadata": {
  "kernelspec": {
   "display_name": "Python 3",
   "language": "python",
   "name": "python3"
  },
  "language_info": {
   "codemirror_mode": {
    "name": "ipython",
    "version": 3
   },
   "file_extension": ".py",
   "mimetype": "text/x-python",
   "name": "python",
   "nbconvert_exporter": "python",
   "pygments_lexer": "ipython3",
   "version": "3.6.9"
  }
 },
 "nbformat": 4,
 "nbformat_minor": 2
}
